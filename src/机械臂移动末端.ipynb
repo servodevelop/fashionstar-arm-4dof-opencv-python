{
 "cells": [
  {
   "cell_type": "code",
   "execution_count": 1,
   "metadata": {},
   "outputs": [],
   "source": [
    "# 添加路径\n",
    "import sys\n",
    "# 导入依赖\n",
    "import time\n",
    "from fs_arm_4dof import Arm4DoF\n",
    "from config import *\n",
    "\n",
    "# 机械臂初始化\n",
    "arm = Arm4DoF()"
   ]
  },
  {
   "cell_type": "code",
   "execution_count": 17,
   "metadata": {},
   "outputs": [],
   "source": [
    "# 设置末端执行器(气泵吸头)的位置运动到 x=5cm y=0cm z=5cm\n",
    "arm.move([5, 0, 5], wait=True)"
   ]
  },
  {
   "cell_type": "markdown",
   "metadata": {},
   "source": [
    "运动到工作台的中心点"
   ]
  },
  {
   "cell_type": "code",
   "execution_count": 16,
   "metadata": {},
   "outputs": [
    {
     "name": "stdout",
     "output_type": "stream",
     "text": [
      "(14.0, -0.5, -2.5)\n"
     ]
    }
   ],
   "source": [
    "print(WORKSPACE_ORIGIN_POSI)"
   ]
  },
  {
   "cell_type": "code",
   "execution_count": 2,
   "metadata": {},
   "outputs": [],
   "source": [
    "# WORKSPACE_ORIGIN_POSI = (14., -0.5, -2.5)\n",
    "arm.move(list(WORKSPACE_ORIGIN_POSI), wait=True)"
   ]
  },
  {
   "cell_type": "code",
   "execution_count": 6,
   "metadata": {},
   "outputs": [],
   "source": []
  }
 ],
 "metadata": {
  "kernelspec": {
   "display_name": "Python 3",
   "language": "python",
   "name": "python3"
  },
  "language_info": {
   "codemirror_mode": {
    "name": "ipython",
    "version": 3
   },
   "file_extension": ".py",
   "mimetype": "text/x-python",
   "name": "python",
   "nbconvert_exporter": "python",
   "pygments_lexer": "ipython3",
   "version": "3.6.9"
  }
 },
 "nbformat": 4,
 "nbformat_minor": 2
}
